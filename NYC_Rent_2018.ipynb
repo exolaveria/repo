{
 "cells": [
  {
   "cell_type": "code",
   "execution_count": 1,
   "metadata": {},
   "outputs": [],
   "source": [
    "import pandas as pd\n",
    "from matplotlib import pyplot as plt\n",
    "from scipy import stats\n",
    "import numpy as np"
   ]
  },
  {
   "cell_type": "code",
   "execution_count": 11,
   "metadata": {},
   "outputs": [
    {
     "name": "stdout",
     "output_type": "stream",
     "text": [
      "   rental_id  building_id   rent  bedrooms  bathrooms  size_sqft  \\\n",
      "0       1545     44518357   2550       0.0          1        480   \n",
      "1       2472     94441623  11500       2.0          2       2000   \n",
      "2      10234     87632265   3000       3.0          1       1000   \n",
      "3       2919     76909719   4500       1.0          1        916   \n",
      "4       2790     92953520   4795       1.0          1        975   \n",
      "\n",
      "   min_to_subway  floor  building_age_yrs  no_fee  has_roofdeck  \\\n",
      "0              9    2.0                17       1             1   \n",
      "1              4    1.0                96       0             0   \n",
      "2              4    1.0               106       0             0   \n",
      "3              2   51.0                29       0             1   \n",
      "4              3    8.0                31       0             0   \n",
      "\n",
      "   has_washer_dryer  has_doorman  has_elevator  has_dishwasher  has_patio  \\\n",
      "0                 0            0             1               1          0   \n",
      "1                 0            0             0               0          0   \n",
      "2                 0            0             0               0          0   \n",
      "3                 0            1             1               1          0   \n",
      "4                 0            1             1               1          0   \n",
      "\n",
      "   has_gym       neighborhood            submarket    borough  \n",
      "0        1    Upper East Side  All Upper East Side  Manhattan  \n",
      "1        0  Greenwich Village         All Downtown  Manhattan  \n",
      "2        0            Astoria     Northwest Queens     Queens  \n",
      "3        0            Midtown          All Midtown  Manhattan  \n",
      "4        1  Greenwich Village         All Downtown  Manhattan  \n"
     ]
    }
   ],
   "source": [
    "nyc_rent = pd.read_csv(r'C:\\Users\\Erick\\Miniconda3\\pythonpractice\\NYC_Rent_2018\\streeteasy_NYC.csv')\n",
    "print(nyc_rent.head())\n"
   ]
  },
  {
   "cell_type": "code",
   "execution_count": 26,
   "metadata": {},
   "outputs": [
    {
     "name": "stdout",
     "output_type": "stream",
     "text": [
      "    rental_id  building_id  rent  bedrooms  bathrooms  size_sqft  \\\n",
      "5        2869      8967298  3600       3.0          2        900   \n",
      "10       4318     57792653  3900       3.0          2       1000   \n",
      "13       6265     20382303  2700       2.0          1        900   \n",
      "17         24     96767093  4900       1.0          1       1216   \n",
      "23       9481     25024137  3900       0.0          1       1100   \n",
      "\n",
      "    min_to_subway  floor  building_age_yrs  no_fee  has_roofdeck  \\\n",
      "5               4    1.0                15       1             0   \n",
      "10              4    9.0                 8       0             0   \n",
      "13              4    2.0                96       0             0   \n",
      "17              6    3.0                88       0             0   \n",
      "23              3    4.0                85       1             0   \n",
      "\n",
      "    has_washer_dryer  has_doorman  has_elevator  has_dishwasher  has_patio  \\\n",
      "5                  0            0             0               0          0   \n",
      "10                 0            0             1               0          0   \n",
      "13                 0            0             0               0          0   \n",
      "17                 0            0             0               0          0   \n",
      "23                 0            0             0               0          0   \n",
      "\n",
      "    has_gym      neighborhood           submarket   borough  \n",
      "5         0      Williamsburg      North Brooklyn  Brooklyn  \n",
      "10        0         Greenwood      South Brooklyn  Brooklyn  \n",
      "13        0           Gowanus  Northwest Brooklyn  Brooklyn  \n",
      "17        0  Brooklyn Heights  Northwest Brooklyn  Brooklyn  \n",
      "23        0      Williamsburg      North Brooklyn  Brooklyn  \n"
     ]
    }
   ],
   "source": [
    "brooklyn = nyc_rent[nyc_rent.borough == 'Brooklyn']\n",
    "print(brooklyn.head())\n",
    "\n",
    "manhattan = nyc_rent[nyc_rent.borough == 'Manhattan']\n",
    "queens = nyc_rent[nyc_rent.borough == 'Queens']"
   ]
  },
  {
   "cell_type": "code",
   "execution_count": 20,
   "metadata": {},
   "outputs": [
    {
     "name": "stdout",
     "output_type": "stream",
     "text": [
      "5     3600\n",
      "10    3900\n",
      "13    2700\n",
      "17    4900\n",
      "23    3900\n",
      "Name: rent, dtype: int64\n"
     ]
    }
   ],
   "source": [
    "brooklyn_rent = brooklyn['rent']\n",
    "print(brooklyn_rent.head())\n",
    "manhattan_rent = manhattan['rent']\n",
    "queens_rent = queens['rent']"
   ]
  },
  {
   "cell_type": "code",
   "execution_count": 36,
   "metadata": {},
   "outputs": [
    {
     "name": "stdout",
     "output_type": "stream",
     "text": [
      "3327.4037512339587\n",
      "5138.9403786380335\n",
      "2516.1473214285716\n"
     ]
    }
   ],
   "source": [
    "brooklyn_price = np.average(brooklyn_rent)\n",
    "print(brooklyn_price)\n",
    "manhattan_price = np.average(manhattan_rent)\n",
    "print(manhattan_price)\n",
    "queens_price = np.average(queens_rent)\n",
    "print(queens_price)"
   ]
  },
  {
   "cell_type": "code",
   "execution_count": 29,
   "metadata": {},
   "outputs": [
    {
     "name": "stdout",
     "output_type": "stream",
     "text": [
      "      rental_id  building_id  rent  bedrooms  bathrooms  size_sqft  \\\n",
      "17           24     96767093  4900       1.0          1       1216   \n",
      "33          849     26340900  2750       1.0          1        700   \n",
      "40         7616     68798163  2000       1.0          1        700   \n",
      "45          863     62708999  3200       1.0          1        800   \n",
      "62        10632     89956739  1799       1.0          1        650   \n",
      "...         ...          ...   ...       ...        ...        ...   \n",
      "4907       2067     26340900  2850       1.0          1        800   \n",
      "4952       1329     93684714  3815       1.0          1        750   \n",
      "4953       4163     19605010  1700       1.0          1        367   \n",
      "4956       4703     17756246  2800       1.0          1        735   \n",
      "4967       7329     18850963  2300       1.0          1        900   \n",
      "\n",
      "      min_to_subway  floor  building_age_yrs  no_fee  has_roofdeck  \\\n",
      "17                6    3.0                88       0             0   \n",
      "33               12    3.0                 9       1             0   \n",
      "40                4    2.0                85       0             0   \n",
      "45                5    3.0                27       0             0   \n",
      "62                7    3.0                 8       0             0   \n",
      "...             ...    ...               ...     ...           ...   \n",
      "4907             12    3.0                 9       0             0   \n",
      "4952              1   17.0                 5       0             0   \n",
      "4953              4    3.0               106       0             0   \n",
      "4956              1    2.0                96       0             0   \n",
      "4967              5    2.0                88       0             0   \n",
      "\n",
      "      has_washer_dryer  has_doorman  has_elevator  has_dishwasher  has_patio  \\\n",
      "17                   0            0             0               0          0   \n",
      "33                   0            0             0               0          0   \n",
      "40                   0            0             0               0          0   \n",
      "45                   0            0             0               0          0   \n",
      "62                   0            0             0               0          0   \n",
      "...                ...          ...           ...             ...        ...   \n",
      "4907                 0            0             0               0          0   \n",
      "4952                 0            0             0               0          0   \n",
      "4953                 0            0             0               0          0   \n",
      "4956                 0            1             0               0          0   \n",
      "4967                 0            0             0               0          0   \n",
      "\n",
      "      has_gym        neighborhood           submarket   borough  \n",
      "17          0    Brooklyn Heights  Northwest Brooklyn  Brooklyn  \n",
      "33          0        Clinton Hill  Northwest Brooklyn  Brooklyn  \n",
      "40          0        Williamsburg      North Brooklyn  Brooklyn  \n",
      "45          0         Boerum Hill  Northwest Brooklyn  Brooklyn  \n",
      "62          0           Greenwood      South Brooklyn  Brooklyn  \n",
      "...       ...                 ...                 ...       ...  \n",
      "4907        0        Clinton Hill  Northwest Brooklyn  Brooklyn  \n",
      "4952        0   Downtown Brooklyn  Northwest Brooklyn  Brooklyn  \n",
      "4953        0  Bedford-Stuyvesant       East Brooklyn  Brooklyn  \n",
      "4956        0          Park Slope       Prospect Park  Brooklyn  \n",
      "4967        0          Greenpoint      North Brooklyn  Brooklyn  \n",
      "\n",
      "[340 rows x 20 columns]\n"
     ]
    }
   ],
   "source": [
    "brooklyn_single = brooklyn[brooklyn.bedrooms == 1.0]\n",
    "print(brooklyn_single)\n",
    "manhattan_single = manhattan[manhattan.bedrooms == 1.0]\n",
    "queens_single = queens[queens.bedrooms == 1.0]"
   ]
  },
  {
   "cell_type": "code",
   "execution_count": 35,
   "metadata": {},
   "outputs": [
    {
     "name": "stdout",
     "output_type": "stream",
     "text": [
      "2784.855882352941\n",
      "3993.4769647696476\n",
      "2346.2543103448274\n"
     ]
    }
   ],
   "source": [
    "brooklyn_single_rent = brooklyn_single['rent']\n",
    "brooklyn_singleprice = np.average(brooklyn_single_rent)\n",
    "print(brooklyn_singleprice)\n",
    "\n",
    "manhattan_single_rent = manhattan_single['rent']\n",
    "manhattan_singleprice = np.average(manhattan_single_rent)\n",
    "print(manhattan_singleprice)\n",
    "\n",
    "queens_single_rent = queens_single['rent']\n",
    "queens_singleprice = np.average(queens_single_rent)\n",
    "print(queens_singleprice)"
   ]
  },
  {
   "cell_type": "code",
   "execution_count": 61,
   "metadata": {},
   "outputs": [
    {
     "data": {
      "image/png": "[encoded data removed]",
      "text/plain": [
       "<Figure size 432x288 with 1 Axes>"
      ]
     },
     "metadata": {
      "needs_background": "light"
     },
     "output_type": "display_data"
    },
    {
     "data": {
      "image/png": "[encoded data removed]",
      "text/plain": [
       "<Figure size 432x288 with 1 Axes>"
      ]
     },
     "metadata": {
      "needs_background": "light"
     },
     "output_type": "display_data"
    },
    {
     "data": {
      "image/png": "[encoded data removed]",
      "text/plain": [
       "<Figure size 432x288 with 1 Axes>"
      ]
     },
     "metadata": {
      "needs_background": "light"
     },
     "output_type": "display_data"
    }
   ],
   "source": [
    "plt.hist(brooklyn_single_rent, range=(0, 8000), edgecolor='black')\n",
    "plt.axvline(brooklyn_singleprice, color='r', linestyle='solid', linewidth=2, label=\"Mean\")\n",
    "plt.ylabel('Apartment Listings Count')\n",
    "plt.xlabel('Rent Price')\n",
    "plt.title('2018 Brooklyn 1 Bedroom Rent')\n",
    "plt.legend()\n",
    "plt.show()\n",
    "\n",
    "plt.hist(manhattan_single_rent, range=(0, 10000), edgecolor='black')\n",
    "plt.axvline(manhattan_singleprice, color='r', linestyle='solid', linewidth=2, label=\"Mean\")\n",
    "plt.ylabel('Apartment Listings Count')\n",
    "plt.xlabel('Rent Price')\n",
    "plt.title('2018 Manhattan 1 Bedroom Rent')\n",
    "plt.legend()\n",
    "plt.show()\n",
    "\n",
    "plt.hist(queens_single_rent, range=(0, 7000), edgecolor='black')\n",
    "plt.legend('Mean', loc='upper left')\n",
    "plt.axvline(queens_singleprice, color='r', linestyle='solid', linewidth=2, label=\"Mean\")\n",
    "plt.ylabel('Apartment Listings Count')\n",
    "plt.xlabel('Rent Price')\n",
    "plt.title('2018 Queens 1 Bedroom Rent')\n",
    "plt.legend()\n",
    "plt.show()"
   ]
  },
  {
   "cell_type": "code",
   "execution_count": null,
   "metadata": {},
   "outputs": [],
   "source": []
  }
 ],
 "metadata": {
  "kernelspec": {
   "display_name": "Python 3",
   "language": "python",
   "name": "python3"
  },
  "language_info": {
   "codemirror_mode": {
    "name": "ipython",
    "version": 3
   },
   "file_extension": ".py",
   "mimetype": "text/x-python",
   "name": "python",
   "nbconvert_exporter": "python",
   "pygments_lexer": "ipython3",
   "version": "3.7.6"
  }
 },
 "nbformat": 4,
 "nbformat_minor": 4
}
